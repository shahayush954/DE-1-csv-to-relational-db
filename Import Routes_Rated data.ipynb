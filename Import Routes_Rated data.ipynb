{
 "cells": [
  {
   "cell_type": "code",
   "execution_count": 1,
   "id": "pacific-japan",
   "metadata": {},
   "outputs": [],
   "source": [
    "import pandas as pd\n",
    "import psycopg2 as psy"
   ]
  },
  {
   "cell_type": "code",
   "execution_count": 2,
   "id": "caroline-television",
   "metadata": {},
   "outputs": [],
   "source": [
    "df = pd.read_csv(\"./datasets/routes_rated.csv\")"
   ]
  },
  {
   "cell_type": "code",
   "execution_count": 3,
   "id": "patient-consciousness",
   "metadata": {},
   "outputs": [
    {
     "data": {
      "text/html": [
       "<div>\n",
       "<style scoped>\n",
       "    .dataframe tbody tr th:only-of-type {\n",
       "        vertical-align: middle;\n",
       "    }\n",
       "\n",
       "    .dataframe tbody tr th {\n",
       "        vertical-align: top;\n",
       "    }\n",
       "\n",
       "    .dataframe thead th {\n",
       "        text-align: right;\n",
       "    }\n",
       "</style>\n",
       "<table border=\"1\" class=\"dataframe\">\n",
       "  <thead>\n",
       "    <tr style=\"text-align: right;\">\n",
       "      <th></th>\n",
       "      <th>Unnamed: 0</th>\n",
       "      <th>name_id</th>\n",
       "      <th>country</th>\n",
       "      <th>crag</th>\n",
       "      <th>sector</th>\n",
       "      <th>name</th>\n",
       "      <th>tall_recommend_sum</th>\n",
       "      <th>grade_mean</th>\n",
       "      <th>cluster</th>\n",
       "      <th>rating_tot</th>\n",
       "    </tr>\n",
       "  </thead>\n",
       "  <tbody>\n",
       "    <tr>\n",
       "      <th>0</th>\n",
       "      <td>0</td>\n",
       "      <td>0</td>\n",
       "      <td>and</td>\n",
       "      <td>montserrat</td>\n",
       "      <td>prohibitivo</td>\n",
       "      <td>diagonal de la x</td>\n",
       "      <td>-1</td>\n",
       "      <td>49.250000</td>\n",
       "      <td>3</td>\n",
       "      <td>-0.045211</td>\n",
       "    </tr>\n",
       "    <tr>\n",
       "      <th>1</th>\n",
       "      <td>1</td>\n",
       "      <td>1</td>\n",
       "      <td>and</td>\n",
       "      <td>montserrat</td>\n",
       "      <td>prohibitivo</td>\n",
       "      <td>mehir</td>\n",
       "      <td>-1</td>\n",
       "      <td>49.000000</td>\n",
       "      <td>2</td>\n",
       "      <td>0.116464</td>\n",
       "    </tr>\n",
       "    <tr>\n",
       "      <th>2</th>\n",
       "      <td>2</td>\n",
       "      <td>2</td>\n",
       "      <td>and</td>\n",
       "      <td>montserrat</td>\n",
       "      <td>prohibitivo</td>\n",
       "      <td>pas de la discordia</td>\n",
       "      <td>0</td>\n",
       "      <td>49.000000</td>\n",
       "      <td>2</td>\n",
       "      <td>0.178722</td>\n",
       "    </tr>\n",
       "    <tr>\n",
       "      <th>3</th>\n",
       "      <td>3</td>\n",
       "      <td>3</td>\n",
       "      <td>and</td>\n",
       "      <td>tartareu</td>\n",
       "      <td>bombo suis</td>\n",
       "      <td>tenedor libre</td>\n",
       "      <td>0</td>\n",
       "      <td>44.333333</td>\n",
       "      <td>3</td>\n",
       "      <td>0.158449</td>\n",
       "    </tr>\n",
       "    <tr>\n",
       "      <th>4</th>\n",
       "      <td>4</td>\n",
       "      <td>4</td>\n",
       "      <td>arg</td>\n",
       "      <td>bandurrias</td>\n",
       "      <td>rincon</td>\n",
       "      <td>tendinitis</td>\n",
       "      <td>1</td>\n",
       "      <td>48.500000</td>\n",
       "      <td>0</td>\n",
       "      <td>0.075797</td>\n",
       "    </tr>\n",
       "  </tbody>\n",
       "</table>\n",
       "</div>"
      ],
      "text/plain": [
       "   Unnamed: 0  name_id country        crag       sector                 name  \\\n",
       "0           0        0     and  montserrat  prohibitivo     diagonal de la x   \n",
       "1           1        1     and  montserrat  prohibitivo                mehir   \n",
       "2           2        2     and  montserrat  prohibitivo  pas de la discordia   \n",
       "3           3        3     and    tartareu   bombo suis        tenedor libre   \n",
       "4           4        4     arg  bandurrias       rincon           tendinitis   \n",
       "\n",
       "   tall_recommend_sum  grade_mean  cluster  rating_tot  \n",
       "0                  -1   49.250000        3   -0.045211  \n",
       "1                  -1   49.000000        2    0.116464  \n",
       "2                   0   49.000000        2    0.178722  \n",
       "3                   0   44.333333        3    0.158449  \n",
       "4                   1   48.500000        0    0.075797  "
      ]
     },
     "execution_count": 3,
     "metadata": {},
     "output_type": "execute_result"
    }
   ],
   "source": [
    "df.head()"
   ]
  },
  {
   "cell_type": "code",
   "execution_count": 4,
   "id": "focused-incident",
   "metadata": {},
   "outputs": [],
   "source": [
    "try:\n",
    "    conn = psy.connect(\"host=127.0.0.1 dbname=imported_data_1 user=postgres password=root\")\n",
    "except pyscopg2.Error as e:\n",
    "    print(e)\n",
    "    \n",
    "try:\n",
    "    cursor = conn.cursor()\n",
    "except psycopg2.Error as e:\n",
    "    print(e)\n",
    "    \n",
    "conn.set_session(autocommit=True)"
   ]
  },
  {
   "cell_type": "code",
   "execution_count": 7,
   "id": "selected-kazakhstan",
   "metadata": {},
   "outputs": [],
   "source": [
    "for index, row in df.iterrows():\n",
    "    insertQueryStr = \"INSERT INTO routes_rated (name_id, country, crag, sector, name, tall_recommend_sum, grade_mean, cluster, rating_tot) VALUES ({}, '{}', '{}', '{}', '{}', {}, {}, {}, {})\"\n",
    "    insertQueryStr = insertQueryStr.format(row[\"name_id\"], row[\"country\"], row[\"crag\"], row[\"sector\"], row[\"name\"], row[\"tall_recommend_sum\"], row[\"grade_mean\"], row[\"cluster\"], row[\"rating_tot\"])\n",
    "    cursor.execute(insertQueryStr)\n",
    "#     print(insertQueryStr)\n",
    "#     if index == 5:\n",
    "#         break"
   ]
  }
 ],
 "metadata": {
  "kernelspec": {
   "display_name": "Python 3",
   "language": "python",
   "name": "python3"
  },
  "language_info": {
   "codemirror_mode": {
    "name": "ipython",
    "version": 3
   },
   "file_extension": ".py",
   "mimetype": "text/x-python",
   "name": "python",
   "nbconvert_exporter": "python",
   "pygments_lexer": "ipython3",
   "version": "3.9.13"
  }
 },
 "nbformat": 4,
 "nbformat_minor": 5
}
