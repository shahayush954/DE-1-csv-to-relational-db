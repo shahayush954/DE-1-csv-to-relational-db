{
 "cells": [
  {
   "cell_type": "code",
   "execution_count": 1,
   "id": "exclusive-theater",
   "metadata": {},
   "outputs": [
    {
     "name": "stdout",
     "output_type": "stream",
     "text": [
      "Collecting psycopg2\n",
      "  Downloading psycopg2-2.9.6-cp39-cp39-win_amd64.whl (1.2 MB)\n",
      "     ---------------------------------------- 1.2/1.2 MB 4.1 MB/s eta 0:00:00\n",
      "Installing collected packages: psycopg2\n",
      "Successfully installed psycopg2-2.9.6\n"
     ]
    }
   ],
   "source": [
    "!pip install psycopg2"
   ]
  },
  {
   "cell_type": "code",
   "execution_count": 2,
   "id": "activated-excellence",
   "metadata": {},
   "outputs": [],
   "source": [
    "import psycopg2"
   ]
  },
  {
   "cell_type": "code",
   "execution_count": 3,
   "id": "stone-replacement",
   "metadata": {},
   "outputs": [],
   "source": [
    "try:\n",
    "    conn = psycopg2.connect(\"host=127.0.0.1 dbname=postgres user=postgres password=root\")\n",
    "except pyscopg2.Error as e:\n",
    "    print(e)"
   ]
  },
  {
   "cell_type": "code",
   "execution_count": 4,
   "id": "reported-version",
   "metadata": {},
   "outputs": [],
   "source": [
    "try:\n",
    "    cursor = conn.cursor()\n",
    "except psycopg2.Error as e:\n",
    "    print(e)"
   ]
  },
  {
   "cell_type": "code",
   "execution_count": 5,
   "id": "running-resource",
   "metadata": {},
   "outputs": [],
   "source": [
    "conn.set_session(autocommit=True)"
   ]
  },
  {
   "cell_type": "code",
   "execution_count": 6,
   "id": "shared-chocolate",
   "metadata": {},
   "outputs": [],
   "source": [
    "try:\n",
    "    cursor.execute(\"CREATE DATABASE firstDB\")\n",
    "except psycopg2.Error as e:\n",
    "    print(e)"
   ]
  },
  {
   "cell_type": "code",
   "execution_count": 8,
   "id": "double-navigation",
   "metadata": {},
   "outputs": [],
   "source": [
    "try:\n",
    "    conn.close()\n",
    "except psycopg2.Error as e:\n",
    "    print(e)\n",
    "    \n",
    "try:\n",
    "    conn = psycopg2.connect(\"host=127.0.0.1 dbname=firstdb user=postgres password=root\")\n",
    "except pyscopg2.Error as e:\n",
    "    print(e)\n",
    "    \n",
    "try:\n",
    "    cursor = conn.cursor()\n",
    "except psycopg2.Error as e:\n",
    "    print(e)\n",
    "    \n",
    "conn.set_session(autocommit=True)"
   ]
  },
  {
   "cell_type": "code",
   "execution_count": 9,
   "id": "bronze-letter",
   "metadata": {},
   "outputs": [],
   "source": [
    "def executeQuery(queryStr):\n",
    "    try:\n",
    "        cursor.execute(queryStr)\n",
    "    except psycopg2.Error as e:\n",
    "        print(e)"
   ]
  },
  {
   "cell_type": "code",
   "execution_count": 10,
   "id": "assumed-albania",
   "metadata": {},
   "outputs": [],
   "source": [
    "executeQuery(\"CREATE TABLE students (student_id int, name varchar, age int, gender varchar, subject varchar, marks int);\")"
   ]
  },
  {
   "cell_type": "code",
   "execution_count": 12,
   "id": "worthy-column",
   "metadata": {},
   "outputs": [],
   "source": [
    "executeQuery(\"INSERT INTO students (student_id, name, age, gender, subject, marks) VALUES (1, 'John', 23, 'Male', 'DSA', 85)\")"
   ]
  },
  {
   "cell_type": "code",
   "execution_count": 13,
   "id": "naked-natural",
   "metadata": {},
   "outputs": [],
   "source": [
    "executeQuery(\"INSERT INTO students (student_id, name, age, gender, subject, marks) VALUES (2, 'Nikolai', 23, 'Male', 'DBMS', 85)\")"
   ]
  },
  {
   "cell_type": "code",
   "execution_count": 14,
   "id": "earned-correction",
   "metadata": {},
   "outputs": [],
   "source": [
    "executeQuery(\"INSERT INTO students (student_id, name, age, gender, subject, marks) VALUES (1, 'Kate', 23, 'Female', 'DSA', 85)\")"
   ]
  },
  {
   "cell_type": "code",
   "execution_count": 17,
   "id": "hazardous-lebanon",
   "metadata": {},
   "outputs": [],
   "source": [
    "cursor.execute(\"SELECT * FROM students\")"
   ]
  },
  {
   "cell_type": "code",
   "execution_count": 18,
   "id": "purple-tucson",
   "metadata": {},
   "outputs": [
    {
     "name": "stdout",
     "output_type": "stream",
     "text": [
      "(1, 'John', 23, 'Male', 'DSA', 85)\n",
      "(2, 'Nikolai', 23, 'Male', 'DBMS', 85)\n",
      "(1, 'Kate', 23, 'Female', 'DSA', 85)\n"
     ]
    }
   ],
   "source": [
    "row = cursor.fetchone()\n",
    "while row:\n",
    "    print(row)\n",
    "    row = cursor.fetchone()"
   ]
  }
 ],
 "metadata": {
  "kernelspec": {
   "display_name": "Python 3",
   "language": "python",
   "name": "python3"
  },
  "language_info": {
   "codemirror_mode": {
    "name": "ipython",
    "version": 3
   },
   "file_extension": ".py",
   "mimetype": "text/x-python",
   "name": "python",
   "nbconvert_exporter": "python",
   "pygments_lexer": "ipython3",
   "version": "3.9.13"
  }
 },
 "nbformat": 4,
 "nbformat_minor": 5
}
